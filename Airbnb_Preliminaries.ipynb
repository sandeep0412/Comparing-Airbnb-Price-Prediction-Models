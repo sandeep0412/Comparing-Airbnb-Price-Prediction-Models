{
  "nbformat": 4,
  "nbformat_minor": 0,
  "metadata": {
    "colab": {
      "name": "Airbnb_Preliminaries.ipynb",
      "version": "0.3.2",
      "provenance": [],
      "include_colab_link": true
    },
    "kernelspec": {
      "name": "python3",
      "display_name": "Python 3"
    }
  },
  "cells": [
    {
      "cell_type": "markdown",
      "metadata": {
        "id": "view-in-github",
        "colab_type": "text"
      },
      "source": [
        "<a href=\"https://colab.research.google.com/github/sandeep0412/Comparing-Airbnb-Price-Prediction-Models/blob/master/Airbnb_Preliminaries.ipynb\" target=\"_parent\"><img src=\"https://colab.research.google.com/assets/colab-badge.svg\" alt=\"Open In Colab\"/></a>"
      ]
    },
    {
      "metadata": {
        "id": "VGheYB4jgiUN",
        "colab_type": "text"
      },
      "cell_type": "markdown",
      "source": [
        "## Data Preparation"
      ]
    },
    {
      "metadata": {
        "id": "MYi4mP8RvmXv",
        "colab_type": "code",
        "colab": {}
      },
      "cell_type": "code",
      "source": [
        "# Load the Drive helper and mount\n",
        "from google.colab import drive\n",
        "# This will prompt for authorization.\n",
        "drive.mount('/content/drive')\n",
        "\n",
        "import pandas as pd\n",
        "import numpy as np\n",
        "import collections\n",
        "\n",
        "import seaborn as sns\n",
        "import matplotlib\n",
        "import matplotlib.pyplot as plt\n",
        "import matplotlib.cm as cmx\n",
        "import matplotlib.colors as colors\n",
        "%matplotlib inline\n",
        "import scipy.stats as stats\n",
        "import sklearn\n",
        "from sklearn.linear_model import LinearRegression\n",
        "from sklearn import linear_model\n"
      ],
      "execution_count": 0,
      "outputs": []
    },
    {
      "metadata": {
        "id": "o2D8d-iy_j34",
        "colab_type": "code",
        "colab": {}
      },
      "cell_type": "code",
      "source": [
        "#Amsterdam\n",
        "#!wget  -O /content/drive/My\\ Drive/Colab\\ Notebooks/listings_a.csv.gz \"http://data.insideairbnb.com/the-netherlands/north-holland/amsterdam/2018-11-04/data/listings.csv.gz\"\n",
        "#!gunzip /content/drive/My\\ Drive/Colab\\ Notebooks/listings_a.csv.gz\n",
        "listings=pd.read_csv(\"/content/drive/My Drive/Colab Notebooks/listings_a.csv\")\n",
        "#listings.info()\n",
        "#listings.head()\n",
        "#listings.describe()\n",
        "\n",
        "#!wget  -O /content/drive/My\\ Drive/Colab\\ Notebooks/reviews.csv.gz \"http://data.insideairbnb.com/the-netherlands/north-holland/amsterdam/2018-10-05/data/reviews.csv.gz\"\n",
        "#!gunzip /content/drive/My\\ Drive/Colab\\ Notebooks/reviews.csv.gz\n",
        "reviews=pd.read_csv(\"/content/drive/My Drive/Colab Notebooks/reviews.csv\")\n",
        "#reviews.info()\n",
        "#reviews.describe()\n",
        "\n",
        "#!wget  -O /content/drive/My\\ Drive/Colab\\ Notebooks/calendar_a.csv.gz \"http://data.insideairbnb.com/the-netherlands/north-holland/amsterdam/2018-11-04/data/calendar.csv.gz\"\n",
        "#!gunzip /content/drive/My\\ Drive/Colab\\ Notebooks/calendar_a.csv.gz\n",
        "calendar=pd.read_csv(\"/content/drive/My Drive/Colab Notebooks/calendar_a.csv\")\n",
        "#calendar.info()\n",
        "#calendar.head()\n",
        "#calendar.describe()"
      ],
      "execution_count": 0,
      "outputs": []
    },
    {
      "metadata": {
        "id": "jwY04vRZFJyJ",
        "colab_type": "code",
        "colab": {}
      },
      "cell_type": "code",
      "source": [
        "#New York\n",
        "#!wget  -O /content/drive/My\\ Drive/Colab\\ Notebooks/listings.csv.gz \"http://data.insideairbnb.com/united-states/ny/new-york-city/2018-11-03/data/listings.csv.gz\"\n",
        "#!gunzip /content/drive/My\\ Drive/Colab\\ Notebooks/listings.csv.gz\n",
        "#listings=pd.read_csv(\"/content/drive/My Drive/Colab Notebooks/listings.csv\")\n",
        "#listings.info()\n",
        "#listings.head()\n",
        "#listings.describe()\n",
        "\n",
        "#!wget  -O /content/drive/My\\ Drive/Colab\\ Notebooks/reviews.csv.gz \"http://data.insideairbnb.com/the-netherlands/north-holland/amsterdam/2018-10-05/data/reviews.csv.gz\"\n",
        "#!gunzip /content/drive/My\\ Drive/Colab\\ Notebooks/reviews.csv.gz\n",
        "#reviews=pd.read_csv(\"/content/drive/My Drive/Colab Notebooks/reviews.csv\")\n",
        "#reviews.info()\n",
        "#reviews.describe()"
      ],
      "execution_count": 0,
      "outputs": []
    },
    {
      "metadata": {
        "id": "mOAQXYt6Axws",
        "colab_type": "code",
        "colab": {}
      },
      "cell_type": "code",
      "source": [
        "#Barcelona\n",
        "#!wget  -O /content/drive/My\\ Drive/Colab\\ Notebooks/listings.csv.gz \"http://data.insideairbnb.com/spain/catalonia/barcelona/2018-11-07/data/listings.csv.gz\"\n",
        "#!gunzip /content/drive/My\\ Drive/Colab\\ Notebooks/listings.csv.gz\n",
        "#listings=pd.read_csv(\"/content/drive/My Drive/Colab Notebooks/listings.csv\")\n",
        "#listings.info()\n",
        "#listings.head()\n",
        "#listings.describe()\n",
        "\n",
        "#!wget  -O /content/drive/My\\ Drive/Colab\\ Notebooks/reviews.csv.gz \"http://data.insideairbnb.com/the-netherlands/north-holland/amsterdam/2018-10-05/data/reviews.csv.gz\"\n",
        "#!gunzip /content/drive/My\\ Drive/Colab\\ Notebooks/reviews.csv.gz\n",
        "#reviews=pd.read_csv(\"/content/drive/My Drive/Colab Notebooks/reviews.csv\")\n",
        "#reviews.info()\n",
        "#reviews.describe()"
      ],
      "execution_count": 0,
      "outputs": []
    },
    {
      "metadata": {
        "id": "y1BmFwP_FOaD",
        "colab_type": "code",
        "colab": {}
      },
      "cell_type": "code",
      "source": [
        "list(listings)"
      ],
      "execution_count": 0,
      "outputs": []
    },
    {
      "metadata": {
        "id": "qKFehzCSFS3k",
        "colab_type": "code",
        "colab": {}
      },
      "cell_type": "code",
      "source": [
        "list(reviews)"
      ],
      "execution_count": 0,
      "outputs": []
    },
    {
      "metadata": {
        "id": "hcgk7RklFUNt",
        "colab_type": "code",
        "colab": {}
      },
      "cell_type": "code",
      "source": [
        "list(calendar)"
      ],
      "execution_count": 0,
      "outputs": []
    },
    {
      "metadata": {
        "id": "N4PU-PIca-6n",
        "colab_type": "code",
        "colab": {}
      },
      "cell_type": "code",
      "source": [
        "def percent_empty(df):\n",
        "    \n",
        "    bools = df.isnull().tolist()\n",
        "    percent_empty = float(bools.count(True)) / float(len(bools))\n",
        "    \n",
        "    return percent_empty, float(bools.count(True))\n",
        "\n",
        "# Store emptiness for all features\n",
        "emptiness = []\n",
        "\n",
        "missing_columns = []\n",
        "\n",
        "# Get emptiness for all features\n",
        "for i in range(0, listings.shape[1]):\n",
        "    p, n = percent_empty(listings.iloc[:,i])\n",
        "    if n > 0:\n",
        "        missing_columns.append(listings.columns.values[i])\n",
        "    emptiness.append(round((p), 2))\n",
        "    \n",
        "empty_dict = dict(zip(listings.columns.values.tolist(), emptiness))\n",
        "\n",
        "# Create a temporary copy of dictionary\n",
        "copyOfDict = dict(empty_dict)\n",
        " \n",
        "# Iterate over the temporary dictionary and delete corresponding key from original dictionary\n",
        "for (key, value) in copyOfDict.items() :\n",
        "    if value % 3 == 0:\n",
        "        del empty_dict[key]\n",
        "\n",
        "# Plot emptiness graph\n",
        "empty = pd.DataFrame.from_dict(empty_dict, orient = 'index').sort_values(by=0)\n",
        "ax = empty.plot(kind = 'bar', color='#E35A5C', figsize = (16, 5))\n",
        "ax.set_xlabel('Predictor')\n",
        "ax.set_ylabel('Percent Empty / NaN')\n",
        "ax.set_title('Feature Emptiness')\n",
        "ax.legend_.remove()\n",
        "\n",
        "plt.show()"
      ],
      "execution_count": 0,
      "outputs": []
    },
    {
      "metadata": {
        "id": "IjGB7R96whSh",
        "colab_type": "code",
        "colab": {}
      },
      "cell_type": "code",
      "source": [
        "listings_clean = listings[['id','host_id','property_type','room_type', 'accommodates','beds', 'bedrooms',\n",
        "                           'bed_type', 'price','number_of_reviews','review_scores_rating','host_listings_count',\n",
        "                           'minimum_nights','bathrooms', 'availability_30', 'availability_60', 'availability_365', 'latitude','longitude','neighbourhood']]\n",
        "listings_clean.head()\n",
        "listings_clean.isna().sum()\n"
      ],
      "execution_count": 0,
      "outputs": []
    },
    {
      "metadata": {
        "id": "S1DS7xxrzW1c",
        "colab_type": "code",
        "colab": {}
      },
      "cell_type": "code",
      "source": [
        "listings_clean = listings_clean.dropna(how='any',subset=['host_listings_count', 'bathrooms', 'neighbourhood'])\n",
        "\n",
        "#listings_clean.zipcode = listings_clean.zipcode.str.replace(r'-\\d+', '')\n",
        "listings_clean.beds = listings_clean.beds.fillna(0)\n",
        "listings_clean.bedrooms = listings_clean.bedrooms.fillna(0)\n",
        "\n",
        "listings_clean.price = listings_clean.price.apply(lambda x: x.split('.')[0]).replace('[^0-9]', '', regex=True).apply(lambda x: int(x))\n",
        "listings_clean = listings_clean[listings_clean['price'] != 0.00]\n",
        "listings_clean = listings_clean[listings_clean['bedrooms'] != 0]\n",
        "listings_clean = listings_clean[listings_clean['beds'] != 0]\n",
        "listings_clean = listings_clean[listings_clean['bathrooms'] != 0]\n",
        "\n"
      ],
      "execution_count": 0,
      "outputs": []
    },
    {
      "metadata": {
        "id": "Or3KsjYE25JX",
        "colab_type": "code",
        "colab": {}
      },
      "cell_type": "code",
      "source": [
        "listings_clean.isna().sum()"
      ],
      "execution_count": 0,
      "outputs": []
    },
    {
      "metadata": {
        "id": "b_538w7w3U71",
        "colab_type": "code",
        "colab": {}
      },
      "cell_type": "code",
      "source": [
        "idx_vals = listings_clean['review_scores_rating'][listings_clean['number_of_reviews'] == 0].index.values.tolist()\n",
        "#print(idx_vals)\n",
        "listings_clean.loc[idx_vals, ('review_scores_rating')] = listings_clean['review_scores_rating'][listings_clean['number_of_reviews'] == 0].replace('NaN', 'No Reviews')\n",
        "listings_clean = listings_clean[~listings_clean['review_scores_rating'].isnull()]\n",
        "#print(np.unique(listings_clean['review_scores_rating']))\n",
        "print(np.unique(listings_clean['neighbourhood']))\n",
        "listings_clean['neighbourhood'].nunique()\n"
      ],
      "execution_count": 0,
      "outputs": []
    },
    {
      "metadata": {
        "id": "9vNNVaWDFXrJ",
        "colab_type": "code",
        "colab": {}
      },
      "cell_type": "code",
      "source": [
        "# Get number of listings in neighborhoods\n",
        "nb_counts = collections.Counter(listings.neighbourhood)\n",
        "tdf = pd.DataFrame.from_dict(nb_counts, orient='index').sort_values(by=0)\n",
        "\n",
        "# Plot number of listings in each neighborhood\n",
        "ax = tdf.plot(kind='bar', figsize = (20,10), color = 'r', alpha = 0.85)\n",
        "ax.set_title(\"Neighborhoods by Number of Listings\")\n",
        "ax.set_xlabel(\"Neighborhood\")\n",
        "ax.set_ylabel(\"# of Listings\")\n",
        "plt.show()"
      ],
      "execution_count": 0,
      "outputs": []
    },
    {
      "metadata": {
        "id": "eWe_s1t2FmzR",
        "colab_type": "code",
        "colab": {}
      },
      "cell_type": "code",
      "source": [
        "# Delete neighborhoods with less than 100 entries\n",
        "del_list=[]\n",
        "for i in nb_counts.keys():\n",
        "    if nb_counts[i] < 100:\n",
        "      del_list.append(nb_counts[i])\n",
        "      listings_clean = listings_clean[listings_clean.neighbourhood!= i]\n",
        "\n",
        "for i in del_list:\n",
        "  del nb_counts[i]\n",
        "print(listings_clean['neighbourhood'].nunique())\n",
        "# Plot new neighborhoods distribution\n",
        "tdf = pd.DataFrame.from_dict(nb_counts, orient='index').sort_values(by=0)\n",
        "ax = tdf.plot(kind='bar', figsize = (22,4), color = 'r', alpha = 0.85)\n",
        "ax.set_title(\"Neighborhoods by House # (Top 48)\")\n",
        "ax.set_xlabel(\"Neighborhood\")\n",
        "ax.set_ylabel(\"# of Listings\")\n",
        "\n",
        "plt.show()\n",
        "entries = listings_clean.shape[0]\n",
        "print (entries - listings_clean.shape[0])\n",
        "entries = listings_clean.shape[0]\n",
        "\n"
      ],
      "execution_count": 0,
      "outputs": []
    },
    {
      "metadata": {
        "id": "Fci0rbUTSvqt",
        "colab_type": "text"
      },
      "cell_type": "markdown",
      "source": [
        "## Data Exploration"
      ]
    },
    {
      "metadata": {
        "id": "Nzu0mU5bSuST",
        "colab_type": "code",
        "colab": {}
      },
      "cell_type": "code",
      "source": [
        "\n",
        "fig, ax = plt.subplots(1, figsize = (8, 7.5))\n",
        "d, bins, patches = ax.hist(listings_clean.price, 100, alpha = 0.85)\n",
        "ax.set_title(\"Histogram of Price Distribution - All prices\")\n",
        "ax.set_xlabel(\"Daily Listing Price in Dollars\")\n",
        "ax.set_ylabel(\"Frequency\")\n",
        "plt.show()\n",
        "\n",
        "\n"
      ],
      "execution_count": 0,
      "outputs": []
    },
    {
      "metadata": {
        "id": "bQojXn4lTB29",
        "colab_type": "code",
        "colab": {}
      },
      "cell_type": "code",
      "source": [
        "grp_price_500 = np.arange(min(listings_clean.price),500,1)\n",
        "listings_price_500 = pd.DataFrame({'id':listings_clean['id'], 'price':np.digitize(listings_clean.price, grp_price_500)})\n",
        "listings_price_500.price.plot(kind='hist')\n",
        "plt.title('Price distribution 0 - $200')\n",
        "plt.show()"
      ],
      "execution_count": 0,
      "outputs": []
    },
    {
      "metadata": {
        "id": "MLbSMCJeTVek",
        "colab_type": "code",
        "colab": {}
      },
      "cell_type": "code",
      "source": [
        "grp_price_100 = np.arange(min(listings_clean.price),100,1)\n",
        "listings_price_100 = pd.DataFrame({'id':listings_clean['id'], 'price':np.digitize(listings_clean.price, grp_price_100)})\n",
        "listings_price_100.price.plot(kind='hist')\n",
        "plt.title('Price distribution 0 - $100')\n",
        "plt.show()"
      ],
      "execution_count": 0,
      "outputs": []
    },
    {
      "metadata": {
        "id": "43m3WX3jTmpV",
        "colab_type": "code",
        "colab": {}
      },
      "cell_type": "code",
      "source": [
        "#Neighbourhood prices\n",
        "df_nprice = pd.DataFrame({'neighbourhood':listings_clean['neighbourhood'], 'price': listings_clean['price']})\n",
        "df_nprice.groupby('neighbourhood')['price'].mean().plot.bar()\n",
        "#print(df_nprice)"
      ],
      "execution_count": 0,
      "outputs": []
    },
    {
      "metadata": {
        "id": "RA49LDo4Uiab",
        "colab_type": "code",
        "colab": {}
      },
      "cell_type": "code",
      "source": [
        "import collections\n",
        "\n",
        "# Get frequency of bedroom number for listings\n",
        "bedrooms_counts = collections.Counter(listings_clean.bedrooms)\n",
        "tdf = pd.DataFrame.from_dict(bedrooms_counts, orient = 'index').sort_values(by = 0)\n",
        "tdf = (tdf.iloc[-10:, :] / 27392) * 100\n",
        "\n",
        "# Sort bedroom dataframe by number\n",
        "tdf.sort_index(axis = 0, ascending = True, inplace = True)\n",
        "\n",
        "# Plot percent of listings by bedroom number\n",
        "ax = tdf.plot(kind = 'bar', figsize = (12, 4), alpha = 0.85)\n",
        "ax.set_xlabel(\"Number of Bedrooms\")\n",
        "ax.set_ylabel(\"Percent of Listings\")\n",
        "ax.set_title('Percent of Listings by Bedrooms')\n",
        "ax.legend_.remove()\n",
        "\n",
        "plt.show()\n"
      ],
      "execution_count": 0,
      "outputs": []
    },
    {
      "metadata": {
        "id": "7_TLmC4ybfKi",
        "colab_type": "code",
        "colab": {}
      },
      "cell_type": "code",
      "source": [
        "# Outline price buckets\n",
        "intervals = [0, 100, 300, 10000]\n",
        "leg_labels = []\n",
        "\n",
        "# Get Labels for legend\n",
        "for i in range(0,len(intervals) - 1):\n",
        "    if i == len(intervals) - 2:\n",
        "        leg_labels.append('\\${}+'.format(intervals[i]))\n",
        "    else:\n",
        "        leg_labels.append(\"\\${}-\\${}\".format(intervals[i], intervals[i+1]))    \n",
        "\n",
        "buckets = []\n",
        "BNB_BLUE = '#007A87'\n",
        "BNB_RED = '#FF5A5F'\n",
        "BNB_DARK_GRAY = '#565A5C'\n",
        "BNB_LIGHT_GRAY = '#CED1CC'\n",
        "\n",
        "# Divide up into price buckets\n",
        "for i in range(0, len(intervals) - 1):\n",
        "    buckets.append(listings_clean[(listings_clean.price > intervals[i]) & (listings_clean.price < intervals[i+1])])\n",
        "\n",
        "colors = ['#007A87', '#FF5A5F', 'g']\n",
        "alphas = [0.85, 0.85, 0.85]  \n",
        "\n",
        "# Plot listings on scatterplot\n",
        "plt.figure(figsize=(15, 15))\n",
        "for i in range(0, len(buckets)):\n",
        "    plt.scatter(buckets[i]['longitude'], buckets[i]['latitude'], c=colors[i], alpha = alphas[i], s=25)\n",
        "    \n",
        "plt.title('Amsterdam Airbnb Listings')\n",
        "plt.xlabel('Latitude')\n",
        "plt.ylabel('Longitude')\n",
        "plt.legend(labels=leg_labels, loc = 'best')\n",
        "#plt.xlim(34.2,73.7)\n",
        "#plt.ylim(40.45,40.95)\n",
        "\n",
        "plt.show()"
      ],
      "execution_count": 0,
      "outputs": []
    },
    {
      "metadata": {
        "id": "OKvvFpcJ6KBB",
        "colab_type": "code",
        "colab": {}
      },
      "cell_type": "code",
      "source": [
        "# encode categorical variables\n",
        "neighbourhood_dummies = pd.get_dummies(listings_clean['neighbourhood'])\n",
        "property_dummies = pd.get_dummies(listings_clean['property_type'])\n",
        "room_dummies = pd.get_dummies(listings_clean['room_type'])\n",
        "bed_dummies = pd.get_dummies(listings_clean['bed_type'])\n",
        "#ratings_scores_dummies = pd.get_dummies(listings_clean['review_scores_rating'])\n",
        "\n",
        "# replace the old columns with our new one-hot encoded ones\n",
        "df = pd.concat((listings_clean.drop(['neighbourhood', \\\n",
        "    'property_type', 'room_type', 'bed_type'], axis=1), \\\n",
        "    neighbourhood_dummies.astype(int), property_dummies.astype(int), \\\n",
        "    room_dummies.astype(int), bed_dummies.astype(int)), \\\n",
        "    axis=1)\n",
        "\n",
        "print(len(df.columns))\n",
        "\n",
        "# move target predictor 'price' to the end of the listings_clean frame\n",
        "cols = list(df.columns.values)\n",
        "idx = cols.index('price')\n",
        "rearrange_cols = cols[:idx] + cols[idx+1:] + [cols[idx]]\n",
        "df = df[rearrange_cols]"
      ],
      "execution_count": 0,
      "outputs": []
    },
    {
      "metadata": {
        "id": "QTd1mhTr7wEs",
        "colab_type": "code",
        "colab": {}
      },
      "cell_type": "code",
      "source": [
        "# convert non-categorical variables to floats and standardize\n",
        "def standardize_col(col):\n",
        "    mean = np.mean(col)\n",
        "    std = np.std(col)\n",
        "    return col.apply(lambda x: (x - mean) / std)\n",
        "\n",
        "non_cat_vars = ['accommodates', 'bedrooms', 'beds', 'number_of_reviews', 'host_listings_count', 'availability_30', 'minimum_nights', 'bathrooms', 'review_scores_rating']\n",
        "for col in non_cat_vars:\n",
        "    df[col] = df[col].astype(float)\n",
        "    df[col] = standardize_col(df[col])\n",
        "    \n",
        "df.head()"
      ],
      "execution_count": 0,
      "outputs": []
    },
    {
      "metadata": {
        "id": "mF9rIkoz7676",
        "colab_type": "code",
        "colab": {}
      },
      "cell_type": "code",
      "source": [
        "import math\n",
        "# log transform the response 'price'\n",
        "print(min(df.price))\n",
        "df['price_log'] = df['price'].apply(lambda x: math.log(x))"
      ],
      "execution_count": 0,
      "outputs": []
    },
    {
      "metadata": {
        "id": "Sm5O0j969tOq",
        "colab_type": "code",
        "colab": {}
      },
      "cell_type": "code",
      "source": [
        "import pylab\n",
        "stats.probplot(df['price_log'], dist=\"norm\", plot=pylab)\n",
        "pylab.show()"
      ],
      "execution_count": 0,
      "outputs": []
    },
    {
      "metadata": {
        "id": "r__MfIhW9xq1",
        "colab_type": "code",
        "colab": {}
      },
      "cell_type": "code",
      "source": [
        "\n",
        "# read to csv\n",
        "df.to_csv('/content/drive/My Drive/Colab Notebooks/listings_clean_a1.csv', index=False)"
      ],
      "execution_count": 0,
      "outputs": []
    },
    {
      "metadata": {
        "id": "TsLkMNRjCtu4",
        "colab_type": "code",
        "colab": {}
      },
      "cell_type": "code",
      "source": [
        "df.shape"
      ],
      "execution_count": 0,
      "outputs": []
    },
    {
      "metadata": {
        "id": "xu7Em6fe3bsp",
        "colab_type": "code",
        "colab": {}
      },
      "cell_type": "code",
      "source": [
        "# check for collinearity and visualize relationship between each predictor and price\n",
        "matrix_cols = ['accommodates', 'bedrooms', 'beds', 'minimum_nights', 'availability_30', 'availability_60', 'availability_365', 'number_of_reviews', 'host_listings_count', 'review_scores_rating', 'price']\n",
        "axs = pd.plotting.scatter_matrix(df[matrix_cols], figsize=(20, 20), c='red')"
      ],
      "execution_count": 0,
      "outputs": []
    },
    {
      "metadata": {
        "id": "13sUtNfsb9LV",
        "colab_type": "code",
        "colab": {}
      },
      "cell_type": "code",
      "source": [
        "# Compute matrix of correlation coefficients\n",
        "corr_matrix = np.corrcoef(df.T)\n",
        "\n",
        "corr_df = pd.DataFrame(data = corr_matrix, columns = df.columns, \n",
        "             index = df.columns)\n",
        "# Display heat map \n",
        "plt.figure(figsize=(7, 7))\n",
        "plt.pcolor(corr_matrix, cmap='RdBu')\n",
        "plt.xlabel('Predictor Index')\n",
        "plt.ylabel('Predictor Index')\n",
        "plt.title('Heatmap of Correlation Matrix')\n",
        "plt.colorbar()\n",
        "\n",
        "plt.show()"
      ],
      "execution_count": 0,
      "outputs": []
    },
    {
      "metadata": {
        "id": "f6pXun1jKtn4",
        "colab_type": "text"
      },
      "cell_type": "markdown",
      "source": [
        "##Seasonality\n"
      ]
    },
    {
      "metadata": {
        "id": "CtuXZ26BQBqY",
        "colab_type": "code",
        "colab": {}
      },
      "cell_type": "code",
      "source": [
        "calendar=pd.read_csv(\"/content/drive/My Drive/Colab Notebooks/calendar_a.csv\")\n",
        "list(calendar)"
      ],
      "execution_count": 0,
      "outputs": []
    },
    {
      "metadata": {
        "id": "pmkzuVuYhlDb",
        "colab_type": "code",
        "colab": {}
      },
      "cell_type": "code",
      "source": [
        "calendar.isna().sum()"
      ],
      "execution_count": 0,
      "outputs": []
    },
    {
      "metadata": {
        "id": "AnHEE1lMhz3H",
        "colab_type": "code",
        "colab": {}
      },
      "cell_type": "code",
      "source": [
        "calendar = calendar.dropna()\n",
        "calendar.price = calendar.price.apply(lambda x: x.split('.')[0]).replace('[^0-9]', '', regex=True).apply(lambda x: int(x))\n",
        "calendar = calendar[calendar['price'] != 0.00]"
      ],
      "execution_count": 0,
      "outputs": []
    },
    {
      "metadata": {
        "id": "CbdnRWUyiQx8",
        "colab_type": "code",
        "colab": {}
      },
      "cell_type": "code",
      "source": [
        "calendar.shape"
      ],
      "execution_count": 0,
      "outputs": []
    },
    {
      "metadata": {
        "id": "OGDEbOvbZKo5",
        "colab_type": "code",
        "colab": {}
      },
      "cell_type": "code",
      "source": [
        "calendar.dtypes"
      ],
      "execution_count": 0,
      "outputs": []
    },
    {
      "metadata": {
        "id": "VT1rVO00dIOm",
        "colab_type": "code",
        "colab": {}
      },
      "cell_type": "code",
      "source": [
        "month = []\n",
        "for index, row in calendar.iterrows():\n",
        "  month.append(int(row['date'].split('-')[1]))\n",
        "calendar['month'] = month\n",
        "calendar.head(5)\n"
      ],
      "execution_count": 0,
      "outputs": []
    },
    {
      "metadata": {
        "id": "e8JlOiPj0ca-",
        "colab_type": "code",
        "colab": {}
      },
      "cell_type": "code",
      "source": [
        "calendar.shape"
      ],
      "execution_count": 0,
      "outputs": []
    },
    {
      "metadata": {
        "id": "RAgp5cIDrj68",
        "colab_type": "code",
        "colab": {}
      },
      "cell_type": "code",
      "source": [
        "season_prices = calendar.groupby(['listing_id', 'month'],  as_index=False )['price'].mean()\n",
        "#season_prices = calendar.groupby(['listing_id', 'month'],  as_index=False )['price'].median()"
      ],
      "execution_count": 0,
      "outputs": []
    },
    {
      "metadata": {
        "id": "rGhwXGmIsiJc",
        "colab_type": "code",
        "colab": {}
      },
      "cell_type": "code",
      "source": [
        "season_prices.dtypes"
      ],
      "execution_count": 0,
      "outputs": []
    },
    {
      "metadata": {
        "id": "3dXdqCGTwivI",
        "colab_type": "code",
        "colab": {}
      },
      "cell_type": "code",
      "source": [
        "listings_clean.id.nunique()"
      ],
      "execution_count": 0,
      "outputs": []
    },
    {
      "metadata": {
        "id": "R4ucW_eDxois",
        "colab_type": "code",
        "colab": {}
      },
      "cell_type": "code",
      "source": [
        "id_list = season_prices['listing_id'].unique()"
      ],
      "execution_count": 0,
      "outputs": []
    },
    {
      "metadata": {
        "id": "EwuoTxuuLe5F",
        "colab_type": "code",
        "colab": {}
      },
      "cell_type": "code",
      "source": [
        "listings_clean.dtypes"
      ],
      "execution_count": 0,
      "outputs": []
    },
    {
      "metadata": {
        "id": "FuXF7tw3xSwC",
        "colab_type": "code",
        "colab": {}
      },
      "cell_type": "code",
      "source": [
        "season_price = []\n",
        "for index, row in listings_clean.iterrows():\n",
        "  if row['id'] in id_list:\n",
        "    season_price.append(season_prices['price'][season_prices['listing_id'] == row['id']])\n",
        "  else:\n",
        "    season_price.append(0)\n",
        "ser = np.empty_like(season_price, dtype='float64')\n",
        "listings_clean['season'] = ser"
      ],
      "execution_count": 0,
      "outputs": []
    },
    {
      "metadata": {
        "id": "nmneHdzBNUcN",
        "colab_type": "code",
        "colab": {}
      },
      "cell_type": "code",
      "source": [
        "df['season'] = listings_clean['season']"
      ],
      "execution_count": 0,
      "outputs": []
    },
    {
      "metadata": {
        "id": "wIU7p7wiNbZe",
        "colab_type": "code",
        "colab": {}
      },
      "cell_type": "code",
      "source": [
        "df.dtypes"
      ],
      "execution_count": 0,
      "outputs": []
    },
    {
      "metadata": {
        "id": "z0xrXiO32ucp",
        "colab_type": "code",
        "colab": {}
      },
      "cell_type": "code",
      "source": [
        "df.to_csv('/content/drive/My Drive/Colab Notebooks/listings_clean_as1.csv', index=False)"
      ],
      "execution_count": 0,
      "outputs": []
    },
    {
      "metadata": {
        "id": "VNZsMRtIIJo4",
        "colab_type": "text"
      },
      "cell_type": "markdown",
      "source": [
        "##Reviews Sentiment Analysis"
      ]
    },
    {
      "metadata": {
        "id": "RSmKu343IRBP",
        "colab_type": "code",
        "outputId": "8591d548-c1d2-4437-967d-a04d8ce60f4f",
        "colab": {
          "base_uri": "https://localhost:8080/",
          "height": 343
        }
      },
      "cell_type": "code",
      "source": [
        "reviews.head(n=10)"
      ],
      "execution_count": 0,
      "outputs": [
        {
          "output_type": "execute_result",
          "data": {
            "text/html": [
              "<div>\n",
              "<style scoped>\n",
              "    .dataframe tbody tr th:only-of-type {\n",
              "        vertical-align: middle;\n",
              "    }\n",
              "\n",
              "    .dataframe tbody tr th {\n",
              "        vertical-align: top;\n",
              "    }\n",
              "\n",
              "    .dataframe thead th {\n",
              "        text-align: right;\n",
              "    }\n",
              "</style>\n",
              "<table border=\"1\" class=\"dataframe\">\n",
              "  <thead>\n",
              "    <tr style=\"text-align: right;\">\n",
              "      <th></th>\n",
              "      <th>listing_id</th>\n",
              "      <th>id</th>\n",
              "      <th>date</th>\n",
              "      <th>reviewer_id</th>\n",
              "      <th>reviewer_name</th>\n",
              "      <th>comments</th>\n",
              "    </tr>\n",
              "  </thead>\n",
              "  <tbody>\n",
              "    <tr>\n",
              "      <th>0</th>\n",
              "      <td>2818</td>\n",
              "      <td>1191</td>\n",
              "      <td>2009-03-30</td>\n",
              "      <td>10952</td>\n",
              "      <td>Lam</td>\n",
              "      <td>Daniel is really cool. The place was nice and ...</td>\n",
              "    </tr>\n",
              "    <tr>\n",
              "      <th>1</th>\n",
              "      <td>2818</td>\n",
              "      <td>1771</td>\n",
              "      <td>2009-04-24</td>\n",
              "      <td>12798</td>\n",
              "      <td>Alice</td>\n",
              "      <td>Daniel is the most amazing host! His place is ...</td>\n",
              "    </tr>\n",
              "    <tr>\n",
              "      <th>2</th>\n",
              "      <td>2818</td>\n",
              "      <td>1989</td>\n",
              "      <td>2009-05-03</td>\n",
              "      <td>11869</td>\n",
              "      <td>Natalja</td>\n",
              "      <td>We had such a great time in Amsterdam. Daniel ...</td>\n",
              "    </tr>\n",
              "    <tr>\n",
              "      <th>3</th>\n",
              "      <td>2818</td>\n",
              "      <td>2797</td>\n",
              "      <td>2009-05-18</td>\n",
              "      <td>14064</td>\n",
              "      <td>Enrique</td>\n",
              "      <td>Very professional operation. Room is very clea...</td>\n",
              "    </tr>\n",
              "    <tr>\n",
              "      <th>4</th>\n",
              "      <td>2818</td>\n",
              "      <td>3151</td>\n",
              "      <td>2009-05-25</td>\n",
              "      <td>17977</td>\n",
              "      <td>Sherwin</td>\n",
              "      <td>Daniel is highly recommended.  He provided all...</td>\n",
              "    </tr>\n",
              "    <tr>\n",
              "      <th>5</th>\n",
              "      <td>2818</td>\n",
              "      <td>4748</td>\n",
              "      <td>2009-06-29</td>\n",
              "      <td>20192</td>\n",
              "      <td>Jie</td>\n",
              "      <td>Daniel was a great host! He made everything so...</td>\n",
              "    </tr>\n",
              "    <tr>\n",
              "      <th>6</th>\n",
              "      <td>2818</td>\n",
              "      <td>5202</td>\n",
              "      <td>2009-07-07</td>\n",
              "      <td>23055</td>\n",
              "      <td>Vanessa</td>\n",
              "      <td>Daniele is an amazing host! He provided everyt...</td>\n",
              "    </tr>\n",
              "    <tr>\n",
              "      <th>7</th>\n",
              "      <td>2818</td>\n",
              "      <td>9131</td>\n",
              "      <td>2009-09-06</td>\n",
              "      <td>26343</td>\n",
              "      <td>Katja</td>\n",
              "      <td>You can´t have a nicer start in Amsterdam. Dan...</td>\n",
              "    </tr>\n",
              "    <tr>\n",
              "      <th>8</th>\n",
              "      <td>2818</td>\n",
              "      <td>12103</td>\n",
              "      <td>2009-10-01</td>\n",
              "      <td>40999</td>\n",
              "      <td>Marie-Eve</td>\n",
              "      <td>Daniel was a fantastic host. His place is calm...</td>\n",
              "    </tr>\n",
              "    <tr>\n",
              "      <th>9</th>\n",
              "      <td>2818</td>\n",
              "      <td>16196</td>\n",
              "      <td>2009-11-04</td>\n",
              "      <td>38623</td>\n",
              "      <td>Graham</td>\n",
              "      <td>Daniel was great. He couldn.t do enough for us...</td>\n",
              "    </tr>\n",
              "  </tbody>\n",
              "</table>\n",
              "</div>"
            ],
            "text/plain": [
              "   listing_id     id        date  reviewer_id reviewer_name  \\\n",
              "0        2818   1191  2009-03-30        10952           Lam   \n",
              "1        2818   1771  2009-04-24        12798         Alice   \n",
              "2        2818   1989  2009-05-03        11869       Natalja   \n",
              "3        2818   2797  2009-05-18        14064       Enrique   \n",
              "4        2818   3151  2009-05-25        17977       Sherwin   \n",
              "5        2818   4748  2009-06-29        20192           Jie   \n",
              "6        2818   5202  2009-07-07        23055       Vanessa   \n",
              "7        2818   9131  2009-09-06        26343         Katja   \n",
              "8        2818  12103  2009-10-01        40999     Marie-Eve   \n",
              "9        2818  16196  2009-11-04        38623        Graham   \n",
              "\n",
              "                                            comments  \n",
              "0  Daniel is really cool. The place was nice and ...  \n",
              "1  Daniel is the most amazing host! His place is ...  \n",
              "2  We had such a great time in Amsterdam. Daniel ...  \n",
              "3  Very professional operation. Room is very clea...  \n",
              "4  Daniel is highly recommended.  He provided all...  \n",
              "5  Daniel was a great host! He made everything so...  \n",
              "6  Daniele is an amazing host! He provided everyt...  \n",
              "7  You can´t have a nicer start in Amsterdam. Dan...  \n",
              "8  Daniel was a fantastic host. His place is calm...  \n",
              "9  Daniel was great. He couldn.t do enough for us...  "
            ]
          },
          "metadata": {
            "tags": []
          },
          "execution_count": 11
        }
      ]
    },
    {
      "metadata": {
        "id": "EDhcSV4qIUPv",
        "colab_type": "code",
        "outputId": "a50fcc01-1062-4f9e-89cb-604ed961287a",
        "colab": {
          "base_uri": "https://localhost:8080/",
          "height": 50
        }
      },
      "cell_type": "code",
      "source": [
        "print ('Reviews before NaNs dropped: ', reviews.shape[0])\n",
        "# Delete reviews entries with NaN values (empty review)\n",
        "reviews = reviews.dropna(axis=0)\n",
        "print ('Reviews after NaNs dropped: ', reviews.shape[0])"
      ],
      "execution_count": 0,
      "outputs": [
        {
          "output_type": "stream",
          "text": [
            "Reviews before NaNs dropped:  421031\n",
            "Reviews after NaNs dropped:  420487\n"
          ],
          "name": "stdout"
        }
      ]
    },
    {
      "metadata": {
        "id": "KwZiqsF_IZiH",
        "colab_type": "code",
        "colab": {}
      },
      "cell_type": "code",
      "source": [
        "# creates empty array to store concatenated text\n",
        "empty_concat = []\n",
        "\n",
        "# iterates through each listing id\n",
        "for item in listings_unclean['id'].unique():\n",
        "    # checks to see if the corresponding listing id has a review\n",
        "    # if so it concatenates the listing title with the reivew\n",
        "    if item in reviews['listing_id'].unique():\n",
        "        empty_concat.append(str(listings_unclean['name'].loc[listings_unclean['id'] == item].values[-1]) + ' ' + str(reviews['comments'].loc[reviews['listing_id'] == item].values[:-1]))\n",
        "    else:\n",
        "        empty_concat.append(str(listings_unclean['name'].loc[listings_unclean['id'] == item].values[-1]))"
      ],
      "execution_count": 0,
      "outputs": []
    },
    {
      "metadata": {
        "id": "fXPnV7s1IaUN",
        "colab_type": "code",
        "colab": {}
      },
      "cell_type": "code",
      "source": [
        "neighborhood_words = []\n",
        "\n",
        "for item in listings_unclean['id'].values:\n",
        "    neighborhood_words.append(listings_unclean['neighbourhood'].loc[listings_unclean['id'] == item].values[-1])\n",
        "\n",
        "listings_unclean['neighborhood_names'] = neighborhood_words"
      ],
      "execution_count": 0,
      "outputs": []
    },
    {
      "metadata": {
        "id": "9akXBdjJIciD",
        "colab_type": "code",
        "colab": {}
      },
      "cell_type": "code",
      "source": [
        "listings_unclean.info()"
      ],
      "execution_count": 0,
      "outputs": []
    },
    {
      "metadata": {
        "id": "wIiXxPtOIfK9",
        "colab_type": "code",
        "colab": {}
      },
      "cell_type": "code",
      "source": [
        "print(listings_unclean['neighborhood_names'].unique().tolist())"
      ],
      "execution_count": 0,
      "outputs": []
    },
    {
      "metadata": {
        "id": "9K-4vfmhIh9g",
        "colab_type": "code",
        "colab": {}
      },
      "cell_type": "code",
      "source": [
        "# Get Neighborhood words to remove geographic correlation from our 'bag-of-wods'\n",
        "nbs = listings_unclean['neighborhood_names'].unique().tolist()\n",
        "nbs2=[]\n",
        "for nb in nbs:\n",
        "  if type(nb)==str:\n",
        "    nbs2.append(nb.lower().split())\n",
        "nbs = set([item for sublist in nbs2 for item in sublist])"
      ],
      "execution_count": 0,
      "outputs": []
    },
    {
      "metadata": {
        "id": "u9DRW9hFIlSX",
        "colab_type": "code",
        "colab": {}
      },
      "cell_type": "code",
      "source": [
        "import re\n",
        " import nltk\n",
        " nltk.download('stopwords')"
      ],
      "execution_count": 0,
      "outputs": []
    },
    {
      "metadata": {
        "id": "3GD4siulIpQv",
        "colab_type": "code",
        "colab": {}
      },
      "cell_type": "code",
      "source": [
        "from nltk.stem import SnowballStemmer\n",
        "stemmer = SnowballStemmer('english')\n",
        "\n",
        "from nltk.corpus import stopwords\n",
        "stops = set(stopwords.words(\"english\"))\n",
        "\n",
        "bags = empty_concat\n",
        "bag_of_words = []\n",
        "\n",
        "# Make characters all english alphabet\n",
        "for review in bags:\n",
        "    # Use regular expressions to do a find-and-replace for alphabet\n",
        "    replaced = re.sub(\"[^a-zA-Z]\", \" \", review)\n",
        "        \n",
        "    # All lower\n",
        "    lower_case = replaced.lower()\n",
        "    \n",
        "    # Put in list\n",
        "    words = lower_case.split()\n",
        "    \n",
        "    # Exclude stop-words and neighborhood words\n",
        "    words = [stemmer.stem(w) for w in words if ((not w in stops) & (not w in nbs))]\n",
        "    listing_words = ' '.join(words)     \n",
        "    bag_of_words.append(listing_words)"
      ],
      "execution_count": 0,
      "outputs": []
    },
    {
      "metadata": {
        "id": "IxBX2uyHIsPe",
        "colab_type": "code",
        "colab": {}
      },
      "cell_type": "code",
      "source": [
        "# Output bag_of_words feature to csv\n",
        "bag = pd.DataFrame(listings_unclean['id'])\n",
        "bag['bag_of_words'] = bag_of_words\n",
        "bag.to_csv('bag_of_words.csv')\n",
        "\n",
        "bag.head(n=10)"
      ],
      "execution_count": 0,
      "outputs": []
    },
    {
      "metadata": {
        "id": "IXvobG7YIuiy",
        "colab_type": "code",
        "colab": {}
      },
      "cell_type": "code",
      "source": [
        "!pip install twython\n",
        "nltk.download('vader_lexicon')"
      ],
      "execution_count": 0,
      "outputs": []
    },
    {
      "metadata": {
        "id": "J9mkPo-NIw05",
        "colab_type": "code",
        "colab": {}
      },
      "cell_type": "code",
      "source": [
        "full_bag = bag['bag_of_words'].tolist()\n",
        "from nltk.sentiment.vader import SentimentIntensityAnalyzer\n",
        "sid = SentimentIntensityAnalyzer()\n",
        "\n",
        "nltk_polarities = []\n",
        "\n",
        "for each in full_bag:\n",
        "    each = \" \".join(each)\n",
        "    ss = sid.polarity_scores(each)\n",
        "    nltk_polarities.append(ss.values())\n",
        "print ('Polarities appended in form [neg, neu, pos, compound]')"
      ],
      "execution_count": 0,
      "outputs": []
    },
    {
      "metadata": {
        "id": "v1IXKnW2IzAA",
        "colab_type": "code",
        "colab": {}
      },
      "cell_type": "code",
      "source": [
        "!pip install textblob"
      ],
      "execution_count": 0,
      "outputs": []
    },
    {
      "metadata": {
        "id": "issh2vfXI1d1",
        "colab_type": "code",
        "colab": {}
      },
      "cell_type": "code",
      "source": [
        "from textblob import TextBlob\n",
        "\n",
        "tb_polarities = []\n",
        "\n",
        "for i, each in enumerate(full_bag):\n",
        "    blob = TextBlob(each)\n",
        "    tb_polarities.append(blob.sentiment.polarity)"
      ],
      "execution_count": 0,
      "outputs": []
    },
    {
      "metadata": {
        "id": "8OcA9kYhI4Bb",
        "colab_type": "code",
        "colab": {}
      },
      "cell_type": "code",
      "source": [
        "print(len(tb_polarities))\n",
        "listings_unclean.shape"
      ],
      "execution_count": 0,
      "outputs": []
    },
    {
      "metadata": {
        "id": "IcmbUBx8I5zg",
        "colab_type": "code",
        "colab": {}
      },
      "cell_type": "code",
      "source": [
        "# Initiate Figure\n",
        "ax = plt.axes()\n",
        "BINS = 30\n",
        "\n",
        "# Plot Text Blob Polarity Average Distribution\n",
        "ax.hist(tb_polarities, bins = BINS, color = BNB_BLUE)\n",
        "ax.set_title('Distribution of TextBlob Polarity Averages')\n",
        "ax.set_xlim([0,1])\n",
        "ax.set_ylim([0,9000])\n",
        "\n",
        "plt.show()"
      ],
      "execution_count": 0,
      "outputs": []
    },
    {
      "metadata": {
        "id": "S4WDzOs6I8N5",
        "colab_type": "code",
        "colab": {}
      },
      "cell_type": "code",
      "source": [
        "import collections\n",
        "# Flatten List\n",
        "list_bag = [w.split() for w in full_bag]\n",
        "all_words = [item for sublist in list_bag for item in sublist]\n",
        "\n",
        "# Get 1000 most common tokens\n",
        "most_common = collections.Counter(all_words).most_common(1000)\n",
        "\n",
        "# Remove words shorter than length 2\n",
        "common_words = [w for w in most_common if len(w[0]) > 2]\n",
        "ax = plt.figure(111, figsize = (10,4))\n",
        "\n",
        "plt.bar(range(len(common_words)), [w[1] for w in common_words], align='center', color = BNB_BLUE)\n",
        "plt.xlim([0,1000])\n",
        "plt.title('Most Common Tokens Distribution')\n",
        "plt.xlabel('Words')\n",
        "plt.ylabel('Frequency')\n",
        "\n",
        "plt.show()"
      ],
      "execution_count": 0,
      "outputs": []
    },
    {
      "metadata": {
        "id": "zs6-kXOmI-ap",
        "colab_type": "code",
        "colab": {}
      },
      "cell_type": "code",
      "source": [
        "# Outline price buckets\n",
        "intervals = [0,100,300,10000]\n",
        "leg_labels = []\n",
        "\n",
        "# Get Labels for Legend\n",
        "for i in range(0,len(intervals) - 1):\n",
        "    if i == len(intervals) - 2:\n",
        "        leg_labels.append('\\${}+'.format(intervals[i]))\n",
        "    else:\n",
        "        leg_labels.append(\"\\${}-\\${}\".format(intervals[i], intervals[i+1]))    \n",
        "listings_season=pd.read_csv(\"/content/drive/My Drive/listings_clean_a.csv\")\n",
        "buckets = []\n",
        "x = listings_season#.drop('id', 1)\n",
        "\n",
        "# Divide up into buckets\n",
        "for i in range(0, len(intervals) - 1):\n",
        "    buckets.append(x[(x['price'] > intervals[i]) & (x['price'] < intervals[i+1])])"
      ],
      "execution_count": 0,
      "outputs": []
    },
    {
      "metadata": {
        "id": "sF3PQppjJFS0",
        "colab_type": "code",
        "colab": {}
      },
      "cell_type": "code",
      "source": [
        "calendar.price.fillna(0, inplace=True)\n",
        "calendar.isna().sum()"
      ],
      "execution_count": 0,
      "outputs": []
    },
    {
      "metadata": {
        "id": "DHoBPDXOJKCO",
        "colab_type": "code",
        "colab": {}
      },
      "cell_type": "code",
      "source": [
        "import re\n",
        "prices=[]\n",
        "calendar = calendar[calendar.price != 0]\n",
        "for p in calendar.price:\n",
        "    p = re.sub('[^0-9.]+','', p)\n",
        "    prices.append(float(p))\n",
        "    \n",
        "calendar.price = prices\n"
      ],
      "execution_count": 0,
      "outputs": []
    },
    {
      "metadata": {
        "id": "NOJHXfk3JNkb",
        "colab_type": "code",
        "colab": {}
      },
      "cell_type": "code",
      "source": [
        "\n",
        "# creates empty array to store the listing IDs of into price buckets\n",
        "high_bucket = []\n",
        "mid_bucket = []\n",
        "low_bucket = []\n",
        "\n",
        "# iterates through each row in the calendar dataframe\n",
        "for index, item in calendar.iterrows():\n",
        "    # checks to see which price bucket our listing IDs fall in \n",
        "    if item['listing_id'] in buckets[0]['id'].unique():\n",
        "        low_bucket.append(item)\n",
        "    elif item['listing_id'] in buckets[1]['id'].unique():\n",
        "        mid_bucket.append(item)\n",
        "    elif item['listing_id'] in buckets[2]['id'].unique():\n",
        "        high_bucket.append(item)"
      ],
      "execution_count": 0,
      "outputs": []
    },
    {
      "metadata": {
        "id": "L8Cd7fWSJQS8",
        "colab_type": "code",
        "colab": {}
      },
      "cell_type": "code",
      "source": [
        "from datetime import datetime\n",
        "# crtes a calendar dates array consisting of all the unique calendar dates (366)\n",
        "calendar_dates = np.array(calendar['date'].unique())\n",
        "calendar_dates.sort()\n",
        "\n",
        "# converts arrays to pandas dataframes\n",
        "high_bucket = pd.DataFrame(high_bucket)\n",
        "mid_bucket = pd.DataFrame(mid_bucket)\n",
        "low_bucket = pd.DataFrame(low_bucket)\n",
        "\n",
        "# empty array to store the average daily price information based on price bucket\n",
        "high_seasonality_data = np.empty([len(calendar_dates),1])\n",
        "mid_seasonality_data = np.empty([len(calendar_dates),1])\n",
        "low_seasonality_data = np.empty([len(calendar_dates),1])\n",
        "\n",
        "index = 0\n",
        "\n",
        "# iterates each day of the calendar\n",
        "for item in calendar_dates:\n",
        "    calendar_dates[index] = datetime.strptime(item,'%Y-%m-%d').date()\n",
        "    high_seasonality_data[index, 0] = np.mean(high_bucket['price'].loc[high_bucket['date'] == item])\n",
        "    mid_seasonality_data[index, 0] = np.mean(mid_bucket['price'].loc[mid_bucket['date'] == item])\n",
        "    low_seasonality_data[index, 0] = np.mean(low_bucket['price'].loc[low_bucket['date'] == item])\n",
        "    index += 1"
      ],
      "execution_count": 0,
      "outputs": []
    },
    {
      "metadata": {
        "id": "yQ1FBQPmJScn",
        "colab_type": "code",
        "colab": {}
      },
      "cell_type": "code",
      "source": [
        "plt.figure(figsize=(10, 5))\n",
        "\n",
        "# prints all buckets (high, mid, and low) containing seasonality data\n",
        "plt.plot(calendar_dates, high_seasonality_data, label = 'High Price Bucket', color = BNB_RED)\n",
        "plt.plot(calendar_dates, mid_seasonality_data, label = 'Middle Price Bucket', color = BNB_BLUE)\n",
        "plt.plot(calendar_dates, low_seasonality_data, label = 'Low Price Bucket', color = BNB_DARK_GRAY)\n",
        "\n",
        "plt.title('Average Daily Price')\n",
        "plt.xlabel('Date')\n",
        "plt.ylabel('Price (USD)')\n",
        "plt.legend(loc = 'best')\n",
        "\n",
        "plt.show()"
      ],
      "execution_count": 0,
      "outputs": []
    },
    {
      "metadata": {
        "id": "_GaVw2kZJVzJ",
        "colab_type": "code",
        "colab": {}
      },
      "cell_type": "code",
      "source": [
        "import matplotlib\n",
        "matplotlib.pyplot.scatter(calendar_dates, high_seasonality_data)"
      ],
      "execution_count": 0,
      "outputs": []
    },
    {
      "metadata": {
        "id": "wr_23fjbJX-U",
        "colab_type": "code",
        "colab": {}
      },
      "cell_type": "code",
      "source": [
        "# plots only listings in the high price bucket\n",
        "plt.figure(figsize=(10, 5))\n",
        "\n",
        "plt.plot(calendar_dates, high_seasonality_data, color = BNB_RED, label = 'Average Daily Price')\n",
        "plt.plot(calendar_dates, np.median(high_seasonality_data)*np.ones([len(high_seasonality_data),1]), color = BNB_BLUE, label = 'Median Daily Price')\n",
        "\n",
        "plt.title('High Price Bucket')\n",
        "plt.xlabel('Date')\n",
        "plt.ylabel('Price (USD)')\n",
        "plt.legend(loc = 'best')\n",
        "# plt.ylim(460,580)\n",
        "\n",
        "plt.show()"
      ],
      "execution_count": 0,
      "outputs": []
    },
    {
      "metadata": {
        "id": "1BcsCprSJao7",
        "colab_type": "code",
        "colab": {}
      },
      "cell_type": "code",
      "source": [
        "# plots only listings in the middle price bucket\n",
        "plt.figure(figsize=(10, 5))\n",
        "\n",
        "plt.plot(calendar_dates, mid_seasonality_data, color = BNB_RED ,label = 'Average Daily Price')\n",
        "plt.plot(calendar_dates, np.median(mid_seasonality_data)*np.ones([len(mid_seasonality_data),1]), color = BNB_BLUE, label = 'Median Daily Price')\n",
        "\n",
        "plt.title('Middle Price Bucket')\n",
        "plt.xlabel('Date')\n",
        "plt.ylabel('Price (USD)')\n",
        "plt.legend(loc = 'best')\n",
        "\n",
        "plt.show()"
      ],
      "execution_count": 0,
      "outputs": []
    },
    {
      "metadata": {
        "id": "hWX8f4XoJduf",
        "colab_type": "code",
        "colab": {}
      },
      "cell_type": "code",
      "source": [
        "# plots only listings in the low price bucket\n",
        "plt.figure(figsize=(10, 5))\n",
        "\n",
        "plt.plot(calendar_dates, low_seasonality_data, color = BNB_RED ,label = 'Average Daily Price')\n",
        "plt.plot(calendar_dates, np.median(low_seasonality_data)*np.ones([len(low_seasonality_data),1]), color = BNB_BLUE, label = 'Median Daily Price')\n",
        "\n",
        "plt.title('Low Price Bucket - Average Nightly Price')\n",
        "plt.xlabel('Date')\n",
        "plt.ylabel('Price (USD)')\n",
        "plt.legend(loc = 'best')\n",
        "# plt.ylim(70,90)\n",
        "\n",
        "plt.show()"
      ],
      "execution_count": 0,
      "outputs": []
    },
    {
      "metadata": {
        "id": "9gKOLOt5JiY6",
        "colab_type": "code",
        "colab": {}
      },
      "cell_type": "code",
      "source": [
        "len(tb_polarities)"
      ],
      "execution_count": 0,
      "outputs": []
    },
    {
      "metadata": {
        "id": "rU5MS1fEJlQ_",
        "colab_type": "code",
        "colab": {}
      },
      "cell_type": "code",
      "source": [
        "listings_unclean.shape"
      ],
      "execution_count": 0,
      "outputs": []
    },
    {
      "metadata": {
        "id": "iZ3kqDA9Jnht",
        "colab_type": "code",
        "colab": {}
      },
      "cell_type": "code",
      "source": [
        "listings_season.shape"
      ],
      "execution_count": 0,
      "outputs": []
    },
    {
      "metadata": {
        "id": "-jN3-N82JptF",
        "colab_type": "code",
        "colab": {}
      },
      "cell_type": "code",
      "source": [
        "# exports transit location / distance information to a csv\n",
        "exported_data = pd.DataFrame({'id': listings_unclean['id'].values, 'polarities': tb_polarities})\n",
        "exported_data = exported_data[['id', 'polarities']]\n",
        "\n",
        "\n",
        "exported_data.head(n=5)"
      ],
      "execution_count": 0,
      "outputs": []
    },
    {
      "metadata": {
        "id": "L5rjJ55gJr6L",
        "colab_type": "code",
        "colab": {}
      },
      "cell_type": "code",
      "source": [
        "temp=pd.merge(exported_data, listings, how='inner', on='id')"
      ],
      "execution_count": 0,
      "outputs": []
    },
    {
      "metadata": {
        "id": "Rd-eKhJxJu0o",
        "colab_type": "code",
        "colab": {}
      },
      "cell_type": "code",
      "source": [
        "listings=temp"
      ],
      "execution_count": 0,
      "outputs": []
    }
  ]
}